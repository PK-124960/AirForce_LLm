{
 "cells": [
  {
   "cell_type": "code",
   "execution_count": null,
   "id": "73c21e31",
   "metadata": {},
   "outputs": [],
   "source": [
    "import fitz  # PyMuPDF\n",
    "import json\n",
    "\n",
    "pdf_path = \"AFTERBURNER CONTROL_Chapter 3.pdf\"\n",
    "doc = fitz.open(pdf_path)\n",
    "\n",
    "page_data = []\n",
    "\n",
    "for i in range(len(doc)):\n",
    "    text = doc[i].get_text()\n",
    "    page_data.append({\n",
    "        \"page\": i + 1,\n",
    "        \"text\": text\n",
    "    })\n",
    "\n",
    "# save as JSON\n",
    "with open(\"extracted_text.json\", \"w\", encoding=\"utf-8\") as f:\n",
    "    json.dump(page_data, f, ensure_ascii=False, indent=2)\n",
    "\n",
    "print(f\"✅ Extracted {len(page_data)} pages.\")\n"
   ]
  },
  {
   "cell_type": "code",
   "execution_count": null,
   "id": "2da65158",
   "metadata": {},
   "outputs": [],
   "source": [
    "import json\n",
    "from langchain.schema import Document\n",
    "from langchain.text_splitter import RecursiveCharacterTextSplitter\n",
    "\n",
    "# Load JSON dataset\n",
    "with open(\"extracted_text.json\", \"r\", encoding=\"utf-8\") as f:\n",
    "    pages = json.load(f)\n",
    "\n",
    "# define chunks \n",
    "text_splitter = RecursiveCharacterTextSplitter(\n",
    "    chunk_size = 500,\n",
    "    chunk_overlap = 50\n",
    ")\n",
    "\n",
    "docs = []\n",
    "for p in pages:\n",
    "    chunks = text_splitter.split_text(p[\"text\"])\n",
    "    for chunk in chunks:\n",
    "        doc = Document(\n",
    "            page_content=chunk,\n",
    "            metadata={\"page\": p[\"page\"]}\n",
    "        )\n",
    "        docs.append(doc)\n",
    "\n",
    "print(f\"✅ Total chunks: {len(docs)}\")\n"
   ]
  },
  {
   "cell_type": "code",
   "execution_count": 8,
   "id": "5bca6d60",
   "metadata": {},
   "outputs": [
    {
     "name": "stdout",
     "output_type": "stream",
     "text": [
      "✅ FAISS vectorstore saved.\n"
     ]
    }
   ],
   "source": [
    "from langchain.vectorstores import FAISS\n",
    "from langchain.embeddings import HuggingFaceEmbeddings\n",
    "\n",
    "# multilingual model for Thai\n",
    "embedding_model = HuggingFaceEmbeddings(\n",
    "    model_name=\"sentence-transformers/paraphrase-multilingual-MiniLM-L12-v2\"\n",
    ")\n",
    "\n",
    "# FAISS index: Facebook AI Similarity Search\n",
    "db = FAISS.from_documents(docs, embedding_model)\n",
    "\n",
    "db.save_local(\"faiss_afterburner_index\")\n",
    "\n",
    "print(\"✅ FAISS vectorstore saved.\")\n"
   ]
  },
  {
   "cell_type": "code",
   "execution_count": 9,
   "id": "41b23310",
   "metadata": {},
   "outputs": [],
   "source": [
    "# # Load index\n",
    "# db = FAISS.load_local(\n",
    "#     \"faiss_afterburner_index\",\n",
    "#     embedding_model,\n",
    "#     allow_dangerous_deserialization=True\n",
    "# )\n",
    "\n",
    "# query = \"การถอด metering valve ทำอย่างไร\"\n",
    "# results = db.similarity_search(query, k=2)\n",
    "\n",
    "# for i, r in enumerate(results, 1):\n",
    "#     print(f\"🔎 Chunk {i} (หน้า {r.metadata['page']}):\") # which page of chunk\n",
    "#     print(r.page_content[:500])\n",
    "#     print(\"-\" * 80)\n"
   ]
  },
  {
   "cell_type": "code",
   "execution_count": 10,
   "id": "e2ca0295",
   "metadata": {},
   "outputs": [
    {
     "name": "stdout",
     "output_type": "stream",
     "text": [
      "คุณต้องถูกลบและแสดงบộส่วน Pilot Burner Pressure Regulator Assembly ให้เป็นจังหวะได้โดยทำตามขั้นตอน suivants:\n",
      "\n",
      "1. ให้ใช้ดีเรคซิลิก๋อ Solvent P-D-680, Type II หรือ III มาลงบริวาจราการทำสะอาดทั่วนิ้วแสดงผลกลุ่มแสดง\n",
      "2. ถูกลบและเปี๋ยบานผูก (lockwiring) ของบริวาจราการโดยคำนึงและไม่ใช้ทำให้พักๆ ซึ่งจะเป็นการตัด\n",
      "3. ถูกลบบริวาจราการ Pilot Burner Pressure Regulator Assembly (1, Figure 3-1) โดยทำตามขั้นตอน berikut:\n",
      "    a. ถูกลบ body (14, Figure 3-2) จาก control hous- ing. ส่วนที่คงอยู่ใน body (14) คือ:\n",
      "    c. ถูกลบ shipping caps และ plugs\n",
      "    d. ถูกลบ restrictor และ disassemble restrictor assembly โดยทำตามขั้นตอน 3.12 ที่สามารถเปิดทุกส่วนได้:\n",
      "        - remove adjusting screw (66) และ preformed packing (65)\n",
      "4. ถูกลบ pilot burner check valve assembly (76, Figure 3-1) และ disassemble โดยทำตามขั้นตอน 3.11 ที่สอง:\n",
      "    a. ถูกลบ retainer (2) ใน Figure 3-5\n",
      "    b. ถูกลบ preformed packing (1) จาก retainer, และถูกลบ retainer (1) แล้วถูกเปี๋ยบ spring (6), filter (5), piston (2) และ actuator spring (4) จาก control housing\n",
      "\n",
      "นอกจากนี้, ทุกคำสั่งในขั้นตอนนี้มีเกี่ยวกับรูปแบบของ Pilot Burner Pressure Regulator Assembly และชื่อส่วนเหล่านั้นที่ใช้ใน Figure 3-2 ถูกใช้สำหรับความเข้าใจในการถูกลบและ disassemble คุณอาจต้องมีแผงรูปแบบของ Pilot Burner Pressure Regulator Assembly และทำตามขั้นตอนเหล่านั้นอย่างถูกต้อง\n"
     ]
    }
   ],
   "source": [
    "from langchain_community.llms import Ollama\n",
    "from langchain.chains import RetrievalQA\n",
    "\n",
    "llm = Ollama(model=\"mistral\")\n",
    "\n",
    "# Load index\n",
    "db = FAISS.load_local(\n",
    "    \"faiss_afterburner_index\",\n",
    "    embedding_model,\n",
    "    allow_dangerous_deserialization=True\n",
    ")\n",
    "\n",
    "# Retrieval chain (good for untouch data)\n",
    "qa_chain = RetrievalQA.from_chain_type(llm=llm, retriever=db.as_retriever())\n",
    "\n",
    "question = \"ขั้นตอนถอด pilot burner regulator ต้องทำอย่างไร\"\n",
    "\n",
    "response = qa_chain.run(\n",
    "    f\"\"\"คุณคือผู้ช่วยด้านเทคนิคภาษาไทย ช่วยตอบคำถามต่อไปนี้อย่างกระชับ:\n",
    "\\\"{question}\\\"\"\"\"\n",
    ")\n",
    "\n",
    "print(response)"
   ]
  }
 ],
 "metadata": {
  "kernelspec": {
   "display_name": ".venv",
   "language": "python",
   "name": "python3"
  },
  "language_info": {
   "codemirror_mode": {
    "name": "ipython",
    "version": 3
   },
   "file_extension": ".py",
   "mimetype": "text/x-python",
   "name": "python",
   "nbconvert_exporter": "python",
   "pygments_lexer": "ipython3",
   "version": "3.10.10"
  }
 },
 "nbformat": 4,
 "nbformat_minor": 5
}
